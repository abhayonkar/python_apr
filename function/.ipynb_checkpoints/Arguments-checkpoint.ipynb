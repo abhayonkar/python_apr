{
 "cells": [
  {
   "cell_type": "code",
   "execution_count": 1,
   "id": "023b4033",
   "metadata": {},
   "outputs": [
    {
     "name": "stdout",
     "output_type": "stream",
     "text": [
      "30\n",
      "30\n"
     ]
    }
   ],
   "source": [
    "def cal(a,b):\n",
    "   return a+b\n",
    "print(cal(10,20))\n",
    "print(cal(20,10))"
   ]
  },
  {
   "cell_type": "code",
   "execution_count": 2,
   "id": "80fc4d9d",
   "metadata": {},
   "outputs": [],
   "source": [
    "#these are called actual/ formal arguments "
   ]
  },
  {
   "cell_type": "code",
   "execution_count": 3,
   "id": "b3f043ae",
   "metadata": {},
   "outputs": [
    {
     "name": "stdout",
     "output_type": "stream",
     "text": [
      "-10\n",
      "10\n"
     ]
    }
   ],
   "source": [
    "def cal(a,b):\n",
    "   return a-b\n",
    "print(cal(10,20))\n",
    "print(cal(20,10))"
   ]
  },
  {
   "cell_type": "code",
   "execution_count": 4,
   "id": "e3d08db9",
   "metadata": {},
   "outputs": [],
   "source": [
    "#here the output depends on the position of the arguments so these \n",
    "#are called positional arguemnsts"
   ]
  },
  {
   "cell_type": "code",
   "execution_count": 5,
   "id": "29230405",
   "metadata": {},
   "outputs": [
    {
     "name": "stdout",
     "output_type": "stream",
     "text": [
      "-10\n"
     ]
    }
   ],
   "source": [
    "#to overcome we use assignment like\n",
    "def callc(a=10,b=20):\n",
    "    return a-b\n",
    "\n",
    "print(callc())"
   ]
  },
  {
   "cell_type": "code",
   "execution_count": 7,
   "id": "f32f0590",
   "metadata": {},
   "outputs": [
    {
     "name": "stdout",
     "output_type": "stream",
     "text": [
      "-10\n"
     ]
    }
   ],
   "source": [
    "def callc(a=20,b=10):\n",
    "    return b-a\n",
    "\n",
    "print(callc())"
   ]
  },
  {
   "cell_type": "code",
   "execution_count": 8,
   "id": "33204470",
   "metadata": {},
   "outputs": [
    {
     "ename": "TypeError",
     "evalue": "calc() missing 1 required positional argument: 'c'",
     "output_type": "error",
     "traceback": [
      "\u001b[0;31m---------------------------------------------------------------------------\u001b[0m",
      "\u001b[0;31mTypeError\u001b[0m                                 Traceback (most recent call last)",
      "Cell \u001b[0;32mIn[8], line 4\u001b[0m\n\u001b[1;32m      1\u001b[0m \u001b[38;5;28;01mdef\u001b[39;00m \u001b[38;5;21mcalc\u001b[39m(a,b,c):\n\u001b[1;32m      2\u001b[0m     \u001b[38;5;28;01mreturn\u001b[39;00m a\u001b[38;5;241m+\u001b[39mb\u001b[38;5;241m+\u001b[39mc\n\u001b[0;32m----> 4\u001b[0m \u001b[38;5;28mprint\u001b[39m(\u001b[43mcalc\u001b[49m\u001b[43m(\u001b[49m\u001b[38;5;241;43m10\u001b[39;49m\u001b[43m,\u001b[49m\u001b[38;5;241;43m20\u001b[39;49m\u001b[43m)\u001b[49m)\n",
      "\u001b[0;31mTypeError\u001b[0m: calc() missing 1 required positional argument: 'c'"
     ]
    }
   ],
   "source": [
    "def calc(a,b,c):\n",
    "    return a+b+c\n",
    "\n",
    "print(calc(10,20))"
   ]
  },
  {
   "cell_type": "code",
   "execution_count": 9,
   "id": "e7f54c06",
   "metadata": {},
   "outputs": [],
   "source": [
    "# we can assign some value to c and make it default argument"
   ]
  },
  {
   "cell_type": "code",
   "execution_count": 11,
   "id": "5fa4d954",
   "metadata": {},
   "outputs": [
    {
     "name": "stdout",
     "output_type": "stream",
     "text": [
      "31\n"
     ]
    }
   ],
   "source": [
    "def calcc(a,b,c=1):\n",
    "    return a+b+c\n",
    "\n",
    "print(calcc(10,20))"
   ]
  },
  {
   "cell_type": "code",
   "execution_count": null,
   "id": "5172307b",
   "metadata": {},
   "outputs": [],
   "source": [
    "#variable length argument"
   ]
  },
  {
   "cell_type": "code",
   "execution_count": 13,
   "id": "38e8b2e7",
   "metadata": {},
   "outputs": [
    {
     "name": "stdout",
     "output_type": "stream",
     "text": [
      "30\n"
     ]
    },
    {
     "ename": "TypeError",
     "evalue": "cal1() takes 2 positional arguments but 3 were given",
     "output_type": "error",
     "traceback": [
      "\u001b[0;31m---------------------------------------------------------------------------\u001b[0m",
      "\u001b[0;31mTypeError\u001b[0m                                 Traceback (most recent call last)",
      "Cell \u001b[0;32mIn[13], line 5\u001b[0m\n\u001b[1;32m      2\u001b[0m     \u001b[38;5;28;01mreturn\u001b[39;00m a\u001b[38;5;241m+\u001b[39mb\n\u001b[1;32m      4\u001b[0m \u001b[38;5;28mprint\u001b[39m(cal1(\u001b[38;5;241m10\u001b[39m,\u001b[38;5;241m20\u001b[39m))\n\u001b[0;32m----> 5\u001b[0m \u001b[38;5;28mprint\u001b[39m(\u001b[43mcal1\u001b[49m\u001b[43m(\u001b[49m\u001b[38;5;241;43m10\u001b[39;49m\u001b[43m,\u001b[49m\u001b[38;5;241;43m20\u001b[39;49m\u001b[43m,\u001b[49m\u001b[38;5;241;43m30\u001b[39;49m\u001b[43m)\u001b[49m)\n",
      "\u001b[0;31mTypeError\u001b[0m: cal1() takes 2 positional arguments but 3 were given"
     ]
    }
   ],
   "source": [
    "def cal1(a,b):\n",
    "    return a+b\n",
    "\n",
    "print(cal1(10,20))\n",
    "print(cal1(10,20,30))"
   ]
  },
  {
   "cell_type": "code",
   "execution_count": 17,
   "id": "e102d55e",
   "metadata": {},
   "outputs": [
    {
     "name": "stdout",
     "output_type": "stream",
     "text": [
      "(20,)\n",
      "(20, 30)\n",
      "<class 'tuple'>\n"
     ]
    }
   ],
   "source": [
    "def cal1(a,*b):\n",
    "    return b\n",
    "\n",
    "print(cal1(10,20))\n",
    "print(cal1(10,20,30))\n",
    "print(type(cal1(10,20,30,40)))"
   ]
  },
  {
   "cell_type": "code",
   "execution_count": 18,
   "id": "6df76ce5",
   "metadata": {},
   "outputs": [
    {
     "ename": "TypeError",
     "evalue": "display_employees() takes 2 positional arguments but 4 were given",
     "output_type": "error",
     "traceback": [
      "\u001b[0;31m---------------------------------------------------------------------------\u001b[0m",
      "\u001b[0;31mTypeError\u001b[0m                                 Traceback (most recent call last)",
      "Cell \u001b[0;32mIn[18], line 4\u001b[0m\n\u001b[1;32m      1\u001b[0m \u001b[38;5;28;01mdef\u001b[39;00m \u001b[38;5;21mdisplay_employees\u001b[39m(admin, employee):\n\u001b[1;32m      2\u001b[0m     \u001b[38;5;28mprint\u001b[39m(\u001b[38;5;124m\"\u001b[39m\u001b[38;5;124mAdmin name:\u001b[39m\u001b[38;5;124m\"\u001b[39m, admin, \u001b[38;5;124m\"\u001b[39m\u001b[38;5;124mEmployees:\u001b[39m\u001b[38;5;124m\"\u001b[39m, employee)\n\u001b[0;32m----> 4\u001b[0m \u001b[43mdisplay_employees\u001b[49m\u001b[43m(\u001b[49m\u001b[38;5;124;43m\"\u001b[39;49m\u001b[38;5;124;43mModi\u001b[39;49m\u001b[38;5;124;43m\"\u001b[39;49m\u001b[43m,\u001b[49m\u001b[38;5;124;43m\"\u001b[39;49m\u001b[38;5;124;43mRahul\u001b[39;49m\u001b[38;5;124;43m\"\u001b[39;49m\u001b[43m,\u001b[49m\u001b[38;5;124;43m\"\u001b[39;49m\u001b[38;5;124;43mSonia\u001b[39;49m\u001b[38;5;124;43m\"\u001b[39;49m\u001b[43m,\u001b[49m\u001b[38;5;124;43m\"\u001b[39;49m\u001b[38;5;124;43mPriyanka\u001b[39;49m\u001b[38;5;124;43m\"\u001b[39;49m\u001b[43m)\u001b[49m\n",
      "\u001b[0;31mTypeError\u001b[0m: display_employees() takes 2 positional arguments but 4 were given"
     ]
    }
   ],
   "source": [
    "def display_employees(admin, employee):\n",
    "    print(\"Admin name:\", admin, \"Employees:\", employee)\n",
    "    \n",
    "display_employees(\"Modi\",\"Rahul\",\"Sonia\",\"Priyanka\")"
   ]
  },
  {
   "cell_type": "code",
   "execution_count": 21,
   "id": "99d96833",
   "metadata": {},
   "outputs": [
    {
     "name": "stdout",
     "output_type": "stream",
     "text": [
      "Admin name: Modi Employees: ('Rahul', 'Sonia', 'Priyanka')\n",
      "Rahul\n",
      "Sonia\n",
      "Priyanka\n"
     ]
    }
   ],
   "source": [
    "def display_employees(admin, *employee):\n",
    "    print(\"Admin name:\", admin, \"Employees:\", employee)\n",
    "    for emp in employee:\n",
    "        print(emp)\n",
    "    \n",
    "display_employees(\"Modi\",\"Rahul\",\"Sonia\",\"Priyanka\")"
   ]
  },
  {
   "cell_type": "code",
   "execution_count": 22,
   "id": "f72f1c7c",
   "metadata": {},
   "outputs": [],
   "source": [
    "#inner functions"
   ]
  },
  {
   "cell_type": "code",
   "execution_count": 23,
   "id": "a05de56d",
   "metadata": {},
   "outputs": [],
   "source": [
    "def outer():\n",
    "    pass\n",
    "\n",
    "    def inner1():\n",
    "        pass\n",
    "    \n",
    "    def inner2():\n",
    "        pass\n",
    "    \n",
    "    inner1()\n",
    "    \n",
    "    inner2()\n",
    "    \n",
    "outer()"
   ]
  },
  {
   "cell_type": "code",
   "execution_count": 25,
   "id": "ec59ac1c",
   "metadata": {},
   "outputs": [
    {
     "name": "stdout",
     "output_type": "stream",
     "text": [
      "outer function\n"
     ]
    }
   ],
   "source": [
    "def outer():\n",
    "    print(\"outer function\")\n",
    "    \n",
    "    def inner1():\n",
    "        print(\"inner function 1\")\n",
    "    \n",
    "    def inner2():\n",
    "        print(\"inner function 2\")\n",
    "    \n",
    "outer()"
   ]
  },
  {
   "cell_type": "code",
   "execution_count": 26,
   "id": "64177ee1",
   "metadata": {},
   "outputs": [
    {
     "name": "stdout",
     "output_type": "stream",
     "text": [
      "outer function\n"
     ]
    },
    {
     "ename": "NameError",
     "evalue": "name 'inner1' is not defined",
     "output_type": "error",
     "traceback": [
      "\u001b[0;31m---------------------------------------------------------------------------\u001b[0m",
      "\u001b[0;31mNameError\u001b[0m                                 Traceback (most recent call last)",
      "Cell \u001b[0;32mIn[26], line 11\u001b[0m\n\u001b[1;32m      8\u001b[0m         \u001b[38;5;28mprint\u001b[39m(\u001b[38;5;124m\"\u001b[39m\u001b[38;5;124minner function 2\u001b[39m\u001b[38;5;124m\"\u001b[39m)\n\u001b[1;32m     10\u001b[0m outer()\n\u001b[0;32m---> 11\u001b[0m \u001b[43minner1\u001b[49m()\n\u001b[1;32m     12\u001b[0m inner2()\n",
      "\u001b[0;31mNameError\u001b[0m: name 'inner1' is not defined"
     ]
    }
   ],
   "source": [
    "def outer():\n",
    "    print(\"outer function\")\n",
    "    \n",
    "    def inner1():\n",
    "        print(\"inner function 1\")\n",
    "    \n",
    "    def inner2():\n",
    "        print(\"inner function 2\")\n",
    "    \n",
    "outer()\n",
    "inner1()\n",
    "inner2()\n"
   ]
  },
  {
   "cell_type": "code",
   "execution_count": 27,
   "id": "87552170",
   "metadata": {},
   "outputs": [
    {
     "name": "stdout",
     "output_type": "stream",
     "text": [
      "outer function\n",
      "inner function 1\n",
      "inner function 2\n"
     ]
    }
   ],
   "source": [
    "def outer():\n",
    "    print(\"outer function\")\n",
    "    \n",
    "    def inner1():\n",
    "        print(\"inner function 1\")\n",
    "    \n",
    "    def inner2():\n",
    "        print(\"inner function 2\")\n",
    "        \n",
    "    inner1()\n",
    "    inner2()\n",
    "    \n",
    "outer()\n"
   ]
  },
  {
   "cell_type": "code",
   "execution_count": 28,
   "id": "3985cbd7",
   "metadata": {},
   "outputs": [
    {
     "name": "stdout",
     "output_type": "stream",
     "text": [
      "outer function\n",
      "100\n"
     ]
    }
   ],
   "source": [
    "def outer():\n",
    "    print(\"outer function\")\n",
    "    \n",
    "    def inner():\n",
    "        print(\"inner func\")\n",
    "        \n",
    "    return 100\n",
    "\n",
    "print(outer())"
   ]
  },
  {
   "cell_type": "code",
   "execution_count": 29,
   "id": "4cde887c",
   "metadata": {},
   "outputs": [
    {
     "name": "stdout",
     "output_type": "stream",
     "text": [
      "outer function\n",
      "100\n"
     ]
    },
    {
     "ename": "NameError",
     "evalue": "name 'inner' is not defined",
     "output_type": "error",
     "traceback": [
      "\u001b[0;31m---------------------------------------------------------------------------\u001b[0m",
      "\u001b[0;31mNameError\u001b[0m                                 Traceback (most recent call last)",
      "Cell \u001b[0;32mIn[29], line 10\u001b[0m\n\u001b[1;32m      7\u001b[0m     \u001b[38;5;28;01mreturn\u001b[39;00m \u001b[38;5;241m100\u001b[39m\n\u001b[1;32m      9\u001b[0m \u001b[38;5;28mprint\u001b[39m(outer())\n\u001b[0;32m---> 10\u001b[0m \u001b[43minner\u001b[49m()\n",
      "\u001b[0;31mNameError\u001b[0m: name 'inner' is not defined"
     ]
    }
   ],
   "source": [
    "def outer():\n",
    "    print(\"outer function\")\n",
    "    \n",
    "    def inner():\n",
    "        print(\"inner func\")\n",
    "        \n",
    "    return 100\n",
    "\n",
    "print(outer())\n",
    "inner()"
   ]
  },
  {
   "cell_type": "code",
   "execution_count": null,
   "id": "f7dee4b3",
   "metadata": {},
   "outputs": [],
   "source": [
    "# how to call a inner func outside"
   ]
  },
  {
   "cell_type": "code",
   "execution_count": 33,
   "id": "a316c976",
   "metadata": {},
   "outputs": [
    {
     "name": "stdout",
     "output_type": "stream",
     "text": [
      "outer function\n",
      "inner func\n"
     ]
    }
   ],
   "source": [
    "def outer():\n",
    "    print(\"outer function\")\n",
    "    \n",
    "    def inner():\n",
    "        print(\"inner func\")\n",
    "        \n",
    "    return inner\n",
    "\n",
    "x = outer()\n",
    "x()"
   ]
  },
  {
   "cell_type": "code",
   "execution_count": 34,
   "id": "ef985283",
   "metadata": {},
   "outputs": [
    {
     "name": "stdout",
     "output_type": "stream",
     "text": [
      "136763888818816\n",
      "<class 'function'>\n"
     ]
    }
   ],
   "source": [
    "a=10\n",
    "def outer():\n",
    "    print(\"outer func\")\n",
    "    \n",
    "print(id(outer))\n",
    "print(type(outer))"
   ]
  },
  {
   "cell_type": "code",
   "execution_count": 35,
   "id": "eba762eb",
   "metadata": {},
   "outputs": [
    {
     "name": "stdout",
     "output_type": "stream",
     "text": [
      "outer\n",
      "inner\n",
      "inner\n",
      "inner\n"
     ]
    }
   ],
   "source": [
    "def outer():\n",
    "    print(\"outer\")\n",
    "    \n",
    "    def inner():\n",
    "        print(\"inner\")\n",
    "        \n",
    "    inner()\n",
    "    inner()\n",
    "    inner()\n",
    "    \n",
    "outer() "
   ]
  },
  {
   "cell_type": "code",
   "execution_count": 38,
   "id": "838908d1",
   "metadata": {},
   "outputs": [
    {
     "name": "stdout",
     "output_type": "stream",
     "text": [
      "outer\n",
      "inner\n"
     ]
    }
   ],
   "source": [
    "def outer():\n",
    "    print(\"outer\")\n",
    "    \n",
    "    def inner():\n",
    "        print(\"inner\")\n",
    "                \n",
    "    return inner\n",
    "    \n",
    "x = outer()\n",
    "x()\n"
   ]
  },
  {
   "cell_type": "code",
   "execution_count": 39,
   "id": "b9343fe9",
   "metadata": {},
   "outputs": [
    {
     "name": "stdout",
     "output_type": "stream",
     "text": [
      "outer\n",
      "<class 'function'>\n",
      "136763888822656\n"
     ]
    }
   ],
   "source": [
    "def outer():\n",
    "    print(\"outer\")\n",
    "    \n",
    "    def inner():\n",
    "        print(\"inner\")\n",
    "        \n",
    "    print(type(inner))\n",
    "    print(id(inner))\n",
    "    \n",
    "outer()"
   ]
  },
  {
   "cell_type": "code",
   "execution_count": 40,
   "id": "af027034",
   "metadata": {},
   "outputs": [
    {
     "name": "stdout",
     "output_type": "stream",
     "text": [
      "outer\n",
      "136763888812576\n",
      "136763888812576\n"
     ]
    }
   ],
   "source": [
    "def outer():\n",
    "    print(\"outer\")\n",
    "    \n",
    "    def inner():\n",
    "        print(\"inner\")\n",
    "    \n",
    "    print(id(inner))\n",
    "    return inner\n",
    "    \n",
    "x = outer()\n",
    "print(id(x))"
   ]
  },
  {
   "cell_type": "code",
   "execution_count": 41,
   "id": "08cd50d7",
   "metadata": {},
   "outputs": [
    {
     "name": "stdout",
     "output_type": "stream",
     "text": [
      "outer\n",
      "100\n"
     ]
    }
   ],
   "source": [
    "def outer():\n",
    "    print(\"outer\")\n",
    "    \n",
    "    def inner():\n",
    "        return 100\n",
    "    \n",
    "    return inner# reference of inner function\n",
    "    \n",
    "x = outer()\n",
    "a = x()\n",
    "print(a)"
   ]
  },
  {
   "cell_type": "code",
   "execution_count": null,
   "id": "b50c995c",
   "metadata": {},
   "outputs": [],
   "source": []
  }
 ],
 "metadata": {
  "kernelspec": {
   "display_name": "Python 3 (ipykernel)",
   "language": "python",
   "name": "python3"
  },
  "language_info": {
   "codemirror_mode": {
    "name": "ipython",
    "version": 3
   },
   "file_extension": ".py",
   "mimetype": "text/x-python",
   "name": "python",
   "nbconvert_exporter": "python",
   "pygments_lexer": "ipython3",
   "version": "3.11.6"
  }
 },
 "nbformat": 4,
 "nbformat_minor": 5
}
