{
 "cells": [
  {
   "cell_type": "code",
   "execution_count": null,
   "id": "746f178c",
   "metadata": {},
   "outputs": [],
   "source": [
    "#list methods\n",
    "'''\n",
    "append, insert, extend, sort , reverse, count, index, remove, pop, clear, copy\n",
    "'''"
   ]
  },
  {
   "cell_type": "code",
   "execution_count": 2,
   "id": "7afa113a",
   "metadata": {},
   "outputs": [],
   "source": [
    "#what is a list and it's operation \n",
    "# group of elements as one entity, where duplicates are allowed\n",
    "# duplicates are allowed\n",
    "# heterogenous elements are allowed\n",
    "# insertion order is preserved\n",
    "# \n",
    "\n",
    "\n",
    "# create\n",
    "l1 = []\n",
    "l2 = [10,20,20.5, True, \"a\"]\n",
    "\n"
   ]
  },
  {
   "cell_type": "code",
   "execution_count": 3,
   "id": "28f06b0f",
   "metadata": {},
   "outputs": [
    {
     "ename": "TypeError",
     "evalue": "'int' object is not iterable",
     "output_type": "error",
     "traceback": [
      "\u001b[0;31m---------------------------------------------------------------------------\u001b[0m",
      "\u001b[0;31mTypeError\u001b[0m                                 Traceback (most recent call last)",
      "Cell \u001b[0;32mIn[3], line 1\u001b[0m\n\u001b[0;32m----> 1\u001b[0m l3 \u001b[38;5;241m=\u001b[39m \u001b[38;5;28;43mlist\u001b[39;49m\u001b[43m(\u001b[49m\u001b[38;5;241;43m10\u001b[39;49m\u001b[43m)\u001b[49m\n\u001b[1;32m      3\u001b[0m \u001b[38;5;28mprint\u001b[39m(l3)\n",
      "\u001b[0;31mTypeError\u001b[0m: 'int' object is not iterable"
     ]
    }
   ],
   "source": [
    "l3 = list(10)\n",
    "\n",
    "print(l3)"
   ]
  },
  {
   "cell_type": "code",
   "execution_count": 4,
   "id": "c81dab28",
   "metadata": {},
   "outputs": [
    {
     "name": "stdout",
     "output_type": "stream",
     "text": [
      "[10, 20, 230]\n"
     ]
    }
   ],
   "source": [
    "l4 = list([10,20,230])\n",
    "print(l4)"
   ]
  },
  {
   "cell_type": "code",
   "execution_count": 5,
   "id": "146074fb",
   "metadata": {},
   "outputs": [
    {
     "ename": "TypeError",
     "evalue": "list expected at most 1 argument, got 2",
     "output_type": "error",
     "traceback": [
      "\u001b[0;31m---------------------------------------------------------------------------\u001b[0m",
      "\u001b[0;31mTypeError\u001b[0m                                 Traceback (most recent call last)",
      "Cell \u001b[0;32mIn[5], line 1\u001b[0m\n\u001b[0;32m----> 1\u001b[0m l5 \u001b[38;5;241m=\u001b[39m \u001b[38;5;28;43mlist\u001b[39;49m\u001b[43m(\u001b[49m\u001b[38;5;241;43m10\u001b[39;49m\u001b[43m,\u001b[49m\u001b[38;5;241;43m29\u001b[39;49m\u001b[43m)\u001b[49m\n",
      "\u001b[0;31mTypeError\u001b[0m: list expected at most 1 argument, got 2"
     ]
    }
   ],
   "source": [
    "l5 = list(10,29)"
   ]
  },
  {
   "cell_type": "code",
   "execution_count": 8,
   "id": "d09326cc",
   "metadata": {},
   "outputs": [],
   "source": [
    "# so list() methods expects any type of sequence like list, tuple, set, string or range \n",
    "# as depicted in l4"
   ]
  },
  {
   "cell_type": "code",
   "execution_count": 37,
   "id": "c957da4f",
   "metadata": {},
   "outputs": [
    {
     "name": "stdout",
     "output_type": "stream",
     "text": [
      "[10, 24, 52] [10, 24, 55] [17, 42, 53] ['R', 'a', 'h', 'u', 'l'] [0, 1, 2, 3, 4, 5, 6, 7, 8, 9]\n"
     ]
    }
   ],
   "source": [
    "ll = list([10,24,52])\n",
    "lt = list((10,24,55))\n",
    "ls = list({17,42,53})\n",
    "lst = list(\"Rahul\")\n",
    "lr = list(range(10))\n",
    "print(ll,lt,ls,lst,lr)"
   ]
  },
  {
   "cell_type": "code",
   "execution_count": 36,
   "id": "a6267ed6",
   "metadata": {},
   "outputs": [
    {
     "name": "stdout",
     "output_type": "stream",
     "text": [
      "Enter list elements: 1,2,3\n",
      "(1, 2, 3)\n",
      "<class 'list'>\n"
     ]
    }
   ],
   "source": [
    "list1 = eval(input(\"Enter list elements: \"))\n",
    "print(list1)\n",
    "print(type(l1))"
   ]
  },
  {
   "cell_type": "code",
   "execution_count": 35,
   "id": "f8a1f314",
   "metadata": {},
   "outputs": [
    {
     "name": "stdout",
     "output_type": "stream",
     "text": [
      "['RahulGandhi']\n",
      "['Rahul', 'Gandhi']\n"
     ]
    }
   ],
   "source": [
    "l6 = \"RahulGandhi\".split()\n",
    "l7 = \"Rahul Gandhi\".split()\n",
    "print(l6)\n",
    "print(l7)"
   ]
  },
  {
   "cell_type": "code",
   "execution_count": 3,
   "id": "2176eae8",
   "metadata": {},
   "outputs": [
    {
     "name": "stdout",
     "output_type": "stream",
     "text": [
      "['Rahul', 'Sonia', 'Priyanka']\n",
      "Priyanka\n"
     ]
    },
    {
     "ename": "IndexError",
     "evalue": "list index out of range",
     "output_type": "error",
     "traceback": [
      "\u001b[0;31m---------------------------------------------------------------------------\u001b[0m",
      "\u001b[0;31mIndexError\u001b[0m                                Traceback (most recent call last)",
      "Cell \u001b[0;32mIn[3], line 8\u001b[0m\n\u001b[1;32m      6\u001b[0m \u001b[38;5;28mprint\u001b[39m(enames)\n\u001b[1;32m      7\u001b[0m \u001b[38;5;28mprint\u001b[39m(enames[\u001b[38;5;241m2\u001b[39m])\n\u001b[0;32m----> 8\u001b[0m \u001b[38;5;28mprint\u001b[39m(\u001b[43menames\u001b[49m\u001b[43m[\u001b[49m\u001b[38;5;241;43m3\u001b[39;49m\u001b[43m]\u001b[49m)\n",
      "\u001b[0;31mIndexError\u001b[0m: list index out of range"
     ]
    }
   ],
   "source": [
    "#read list objects\n",
    "\n",
    "# reading using indexing \n",
    "\n",
    "enames = [\"Rahul\", \"Sonia\", \"Priyanka\"]\n",
    "print(enames)\n",
    "print(enames[2])\n",
    "print(enames[3])"
   ]
  },
  {
   "cell_type": "code",
   "execution_count": 4,
   "id": "fba9b92c",
   "metadata": {},
   "outputs": [
    {
     "name": "stdout",
     "output_type": "stream",
     "text": [
      "Rahul\n",
      "Sonia\n",
      "Priyanka\n"
     ]
    }
   ],
   "source": [
    "#iterating over a list \n",
    "\n",
    "for ename in enames:\n",
    "    print(ename)"
   ]
  },
  {
   "cell_type": "code",
   "execution_count": 5,
   "id": "b5aa45a6",
   "metadata": {},
   "outputs": [
    {
     "name": "stdout",
     "output_type": "stream",
     "text": [
      "Rahul\n",
      "Sonia\n",
      "Priyanka\n"
     ]
    }
   ],
   "source": [
    "i=0\n",
    "while i <= len(enames)-1:\n",
    "    print(enames[i])\n",
    "    i = i+1"
   ]
  },
  {
   "cell_type": "code",
   "execution_count": 6,
   "id": "901222f0",
   "metadata": {},
   "outputs": [
    {
     "name": "stdout",
     "output_type": "stream",
     "text": [
      "[101, 102, 103]\n",
      "[101, 102, 103, 104]\n",
      "['Rahul', 'Sonia', 'Priyanka', 'Modi']\n"
     ]
    }
   ],
   "source": [
    "#updating a list \n",
    "\n",
    "ids = [101,102,103]\n",
    "print(ids)\n",
    "ids.append(104)\n",
    "\n",
    "print(ids)\n",
    "\n",
    "enames.append(\"Modi\")\n",
    "print(enames)"
   ]
  },
  {
   "cell_type": "code",
   "execution_count": 9,
   "id": "28450617",
   "metadata": {},
   "outputs": [
    {
     "ename": "TypeError",
     "evalue": "'str' object cannot be interpreted as an integer",
     "output_type": "error",
     "traceback": [
      "\u001b[0;31m---------------------------------------------------------------------------\u001b[0m",
      "\u001b[0;31mTypeError\u001b[0m                                 Traceback (most recent call last)",
      "Cell \u001b[0;32mIn[9], line 4\u001b[0m\n\u001b[1;32m      1\u001b[0m \u001b[38;5;66;03m# ['Rahul', 'Sonia', 'Priyanka', 'Modi']\u001b[39;00m\n\u001b[1;32m      2\u001b[0m \u001b[38;5;66;03m#    0         1          2         3\u001b[39;00m\n\u001b[0;32m----> 4\u001b[0m \u001b[43menames\u001b[49m\u001b[38;5;241;43m.\u001b[39;49m\u001b[43minsert\u001b[49m\u001b[43m(\u001b[49m\u001b[38;5;124;43m\"\u001b[39;49m\u001b[38;5;124;43mRajiv\u001b[39;49m\u001b[38;5;124;43m\"\u001b[39;49m\u001b[43m,\u001b[49m\u001b[38;5;241;43m1\u001b[39;49m\u001b[43m)\u001b[49m\n",
      "\u001b[0;31mTypeError\u001b[0m: 'str' object cannot be interpreted as an integer"
     ]
    }
   ],
   "source": [
    "# ['Rahul', 'Sonia', 'Priyanka', 'Modi']\n",
    "#    0         1          2         3\n",
    "\n",
    "enames.insert(\"Rajiv\",1)"
   ]
  },
  {
   "cell_type": "code",
   "execution_count": 11,
   "id": "9a21d305",
   "metadata": {},
   "outputs": [
    {
     "name": "stdout",
     "output_type": "stream",
     "text": [
      "['Rahul', 'Rajiv', 'Rajiv', 'Sonia', 'Priyanka', 'Modi']\n"
     ]
    }
   ],
   "source": [
    "enames.insert(1,\"Rajiv\")\n",
    "print(enames)"
   ]
  },
  {
   "cell_type": "code",
   "execution_count": 37,
   "id": "b7dbf7e4",
   "metadata": {},
   "outputs": [],
   "source": [
    "enames1 = [\"Amith\", \"Rajnath\"]\n",
    "enames.extend(enames1)\n"
   ]
  },
  {
   "cell_type": "code",
   "execution_count": 38,
   "id": "fa2a51b2",
   "metadata": {},
   "outputs": [
    {
     "name": "stdout",
     "output_type": "stream",
     "text": [
      "['Rahul', 'Rajiv', 'Rajiv', 'Sonia', 'Priyanka', 'Modi', 'Amith', 'Rajnath']\n"
     ]
    }
   ],
   "source": [
    "print(enames)"
   ]
  },
  {
   "cell_type": "code",
   "execution_count": 39,
   "id": "b765e76f",
   "metadata": {},
   "outputs": [],
   "source": [
    "enames.extend(\"arvind\")"
   ]
  },
  {
   "cell_type": "code",
   "execution_count": 40,
   "id": "d65c1e10",
   "metadata": {},
   "outputs": [
    {
     "name": "stdout",
     "output_type": "stream",
     "text": [
      "['Rahul', 'Rajiv', 'Rajiv', 'Sonia', 'Priyanka', 'Modi', 'Amith', 'Rajnath', 'a', 'r', 'v', 'i', 'n', 'd']\n"
     ]
    }
   ],
   "source": [
    "print(enames)"
   ]
  },
  {
   "cell_type": "code",
   "execution_count": 41,
   "id": "2836af16",
   "metadata": {},
   "outputs": [
    {
     "ename": "NameError",
     "evalue": "name 'manoj' is not defined",
     "output_type": "error",
     "traceback": [
      "\u001b[0;31m---------------------------------------------------------------------------\u001b[0m",
      "\u001b[0;31mNameError\u001b[0m                                 Traceback (most recent call last)",
      "Cell \u001b[0;32mIn[41], line 1\u001b[0m\n\u001b[0;32m----> 1\u001b[0m enames\u001b[38;5;241m.\u001b[39mextend(\u001b[43mmanoj\u001b[49m)\n",
      "\u001b[0;31mNameError\u001b[0m: name 'manoj' is not defined"
     ]
    }
   ],
   "source": [
    "enames.extend(manoj)"
   ]
  },
  {
   "cell_type": "code",
   "execution_count": 48,
   "id": "fe1a7b2f",
   "metadata": {},
   "outputs": [
    {
     "name": "stdout",
     "output_type": "stream",
     "text": [
      "['Rahul', 'Rajiv', 'Rajiv', 'Sonia', 'Priyanka', 'Modi', 'Amith']\n"
     ]
    }
   ],
   "source": [
    "# pop(), remove() and clear()\n",
    "\n",
    "# pop() is used to remove the last element\n",
    "# even we can store the poped element\n",
    "\n",
    "# to remove a specified element by mentioning the particular item\n",
    "\n",
    "enames.pop()\n",
    "print(enames)"
   ]
  },
  {
   "cell_type": "code",
   "execution_count": 49,
   "id": "239f1ca5",
   "metadata": {},
   "outputs": [
    {
     "name": "stdout",
     "output_type": "stream",
     "text": [
      "['Rahul', 'Rajiv', 'Rajiv', 'Sonia', 'Priyanka', 'Modi']\n",
      "Amith\n"
     ]
    }
   ],
   "source": [
    "# storing the poped element\n",
    "pp = enames.pop()\n",
    "print(enames)\n",
    "print(pp)"
   ]
  },
  {
   "cell_type": "code",
   "execution_count": 50,
   "id": "5bd51f53",
   "metadata": {},
   "outputs": [],
   "source": [
    "# if the list is empty then the pop method will return error"
   ]
  },
  {
   "cell_type": "code",
   "execution_count": 51,
   "id": "83fd8204",
   "metadata": {},
   "outputs": [
    {
     "ename": "TypeError",
     "evalue": "list.remove() takes exactly one argument (0 given)",
     "output_type": "error",
     "traceback": [
      "\u001b[0;31m---------------------------------------------------------------------------\u001b[0m",
      "\u001b[0;31mTypeError\u001b[0m                                 Traceback (most recent call last)",
      "Cell \u001b[0;32mIn[51], line 2\u001b[0m\n\u001b[1;32m      1\u001b[0m \u001b[38;5;66;03m# remove\u001b[39;00m\n\u001b[0;32m----> 2\u001b[0m \u001b[43menames\u001b[49m\u001b[38;5;241;43m.\u001b[39;49m\u001b[43mremove\u001b[49m\u001b[43m(\u001b[49m\u001b[43m)\u001b[49m\n\u001b[1;32m      3\u001b[0m \u001b[38;5;28mprint\u001b[39m(enames)\n",
      "\u001b[0;31mTypeError\u001b[0m: list.remove() takes exactly one argument (0 given)"
     ]
    }
   ],
   "source": [
    "# remove\n",
    "enames.remove()\n",
    "print(enames)"
   ]
  },
  {
   "cell_type": "code",
   "execution_count": null,
   "id": "77955529",
   "metadata": {},
   "outputs": [],
   "source": []
  }
 ],
 "metadata": {
  "kernelspec": {
   "display_name": "Python 3 (ipykernel)",
   "language": "python",
   "name": "python3"
  },
  "language_info": {
   "codemirror_mode": {
    "name": "ipython",
    "version": 3
   },
   "file_extension": ".py",
   "mimetype": "text/x-python",
   "name": "python",
   "nbconvert_exporter": "python",
   "pygments_lexer": "ipython3",
   "version": "3.11.6"
  }
 },
 "nbformat": 4,
 "nbformat_minor": 5
}
